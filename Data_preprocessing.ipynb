{
  "nbformat": 4,
  "nbformat_minor": 5,
  "metadata": {
    "kernelspec": {
      "display_name": "Python 3",
      "language": "python",
      "name": "python3"
    },
    "language_info": {
      "codemirror_mode": {
        "name": "ipython",
        "version": 3
      },
      "file_extension": ".py",
      "mimetype": "text/x-python",
      "name": "python",
      "nbconvert_exporter": "python",
      "pygments_lexer": "ipython3",
      "version": "3.8.8"
    },
    "colab": {
      "name": "연우_Data preprocessing.ipynb",
      "provenance": [],
      "collapsed_sections": []
    }
  },
  "cells": [
    {
      "cell_type": "markdown",
      "metadata": {
        "id": "jPSFZP6moKl3"
      },
      "source": [
        "# 안경 박사 데이터 전처리 (colab)\n",
        "## 1. 드라이브 연결"
      ],
      "id": "jPSFZP6moKl3"
    },
    {
      "cell_type": "code",
      "metadata": {
        "colab": {
          "base_uri": "https://localhost:8080/"
        },
        "id": "26pGYA70Nzyw",
        "outputId": "9c7774e4-2b6d-4e9a-c1b1-40e7ac7b9545"
      },
      "source": [
        "from google.colab import drive\n",
        "drive.mount('/content/gdrive')"
      ],
      "id": "26pGYA70Nzyw",
      "execution_count": null,
      "outputs": [
        {
          "output_type": "stream",
          "name": "stdout",
          "text": [
            "Drive already mounted at /content/gdrive; to attempt to forcibly remount, call drive.mount(\"/content/gdrive\", force_remount=True).\n"
          ]
        }
      ]
    },
    {
      "cell_type": "markdown",
      "metadata": {
        "id": "sg1GymJrouC8"
      },
      "source": [
        "## 2. 코퍼스 불러오기\n",
        "- Pandas 사용\n",
        "- 1052개의 데이터로 구성 돼 있음 \n",
        "\n"
      ],
      "id": "sg1GymJrouC8"
    },
    {
      "cell_type": "code",
      "metadata": {
        "scrolled": true,
        "colab": {
          "base_uri": "https://localhost:8080/"
        },
        "id": "67bc2ca1",
        "outputId": "c80a1e3e-9823-4f8c-e8d5-165e7e5a9572"
      },
      "source": [
        "import spacy\n",
        "import os\n",
        "import pandas as pd\n",
        "\n",
        "nlp=spacy.load(\"en_core_web_sm\")\n",
        "text = pd.read_csv('./gdrive/MyDrive/NLP(자연어처리)/data/face_corpus.tsv', delimiter = '\\t', error_bad_lines=False)\n",
        "\n",
        "print(text)"
      ],
      "id": "67bc2ca1",
      "execution_count": null,
      "outputs": [
        {
          "output_type": "stream",
          "name": "stdout",
          "text": [
            "     filename                                        description label\n",
            "0       0.png  She is a Westerner who appears to be in her 30...     A\n",
            "1       0.png  She looks like 30-year-old. She has medium rou...     C\n",
            "2       0.png  She is a middle-aged Western woman. She has ey...     A\n",
            "3       1.png  Looking middle-aged, he has grayish brown hair...     N\n",
            "4       1.png  He looks like 40-year-old. He has thick flat e...     D\n",
            "...       ...                                                ...   ...\n",
            "1047  348.png  He is an oriental middle-aged man. He has bear...     B\n",
            "1048  348.png  He is a middle-aged man. He has deep eyes and ...     B\n",
            "1049  349.png  She looks like late 20s to early 30s. It is a ...     B\n",
            "1050  349.png  She is a middle-aged Western woman. She has ey...     A\n",
            "1051  349.png  She is a middle-aged woman. She has thick doub...     B\n",
            "\n",
            "[1052 rows x 3 columns]\n"
          ]
        },
        {
          "output_type": "stream",
          "name": "stderr",
          "text": [
            "b'Skipping line 31: expected 3 fields, saw 4\\n'\n"
          ]
        }
      ]
    },
    {
      "cell_type": "markdown",
      "metadata": {
        "id": "jXTDwB2fpwnW"
      },
      "source": [
        " 0번째 열 description 출력"
      ],
      "id": "jXTDwB2fpwnW"
    },
    {
      "cell_type": "code",
      "metadata": {
        "colab": {
          "base_uri": "https://localhost:8080/",
          "height": 72
        },
        "id": "tYSf3QaRkzph",
        "outputId": "8d6be58a-e56d-4168-967c-ae7ff50e181d"
      },
      "source": [
        "text['description'][0]"
      ],
      "id": "tYSf3QaRkzph",
      "execution_count": null,
      "outputs": [
        {
          "output_type": "execute_result",
          "data": {
            "application/vnd.google.colaboratory.intrinsic+json": {
              "type": "string"
            },
            "text/plain": [
              "\"She is a Westerner who appears to be in her 30s. It has white, red, and yellow skin. It has long brown straight hair. her skin is good. They are thin eyebrows with arches and have double eyelids and thick eyelashes. There's a fat under my eye. It has an iris mixed with brown and green. She has a high nose with a slight view of her nostrils. She has a smile that reveals her teeth. She has front cheekbones, round face, and small ears.\""
            ]
          },
          "metadata": {},
          "execution_count": 3
        }
      ]
    },
    {
      "cell_type": "markdown",
      "metadata": {
        "id": "LYQ9x9Niqwke"
      },
      "source": [
        "## 3. DataFrame to List"
      ],
      "id": "LYQ9x9Niqwke"
    },
    {
      "cell_type": "code",
      "metadata": {
        "id": "6a0c6d9e"
      },
      "source": [
        "myList=list()\n",
        "\n",
        "for e in range(len(text)):\n",
        "    myList.append(text['description'][e])"
      ],
      "id": "6a0c6d9e",
      "execution_count": null,
      "outputs": []
    },
    {
      "cell_type": "markdown",
      "metadata": {
        "id": "HlP8L7gNttzZ"
      },
      "source": [
        "0번째 열 문장 출력"
      ],
      "id": "HlP8L7gNttzZ"
    },
    {
      "cell_type": "code",
      "metadata": {
        "colab": {
          "base_uri": "https://localhost:8080/"
        },
        "id": "KVs3r0nYqPGQ",
        "outputId": "026aa2b0-c604-4144-d0e1-79fe32a3c215"
      },
      "source": [
        "print(myList[0])"
      ],
      "id": "KVs3r0nYqPGQ",
      "execution_count": null,
      "outputs": [
        {
          "output_type": "stream",
          "name": "stdout",
          "text": [
            "She is a Westerner who appears to be in her 30s. It has white, red, and yellow skin. It has long brown straight hair. her skin is good. They are thin eyebrows with arches and have double eyelids and thick eyelashes. There's a fat under my eye. It has an iris mixed with brown and green. She has a high nose with a slight view of her nostrils. She has a smile that reveals her teeth. She has front cheekbones, round face, and small ears.\n"
          ]
        }
      ]
    },
    {
      "cell_type": "markdown",
      "metadata": {
        "id": "vpwgNyv-rU3-"
      },
      "source": [
        "## 4. 문장별로 리스트로 분리하기\n",
        "2차원 배열"
      ],
      "id": "vpwgNyv-rU3-"
    },
    {
      "cell_type": "code",
      "metadata": {
        "id": "18d9fe17"
      },
      "source": [
        "mlist=list()\n",
        "\n",
        "for i in myList:\n",
        "    t=i\n",
        "    doc=nlp(i)\n",
        "    line=[]\n",
        "    for j in doc.sents:\n",
        "        line.append(j.text)\n",
        "    mlist.append(line)"
      ],
      "id": "18d9fe17",
      "execution_count": null,
      "outputs": []
    },
    {
      "cell_type": "markdown",
      "metadata": {
        "id": "oWXFIICUtuZR"
      },
      "source": [
        "0번째 열 분리된 문장 출력"
      ],
      "id": "oWXFIICUtuZR"
    },
    {
      "cell_type": "code",
      "metadata": {
        "colab": {
          "base_uri": "https://localhost:8080/"
        },
        "id": "bdde79ad",
        "outputId": "7f6078d5-f57a-4c5d-ed59-9dcffe7fe0c1"
      },
      "source": [
        "print(mlist[0])"
      ],
      "id": "bdde79ad",
      "execution_count": null,
      "outputs": [
        {
          "output_type": "stream",
          "name": "stdout",
          "text": [
            "['She is a Westerner who appears to be in her 30s.', 'It has white, red, and yellow skin.', 'It has long brown straight hair.', 'her skin is good.', 'They are thin eyebrows with arches and have double eyelids and thick eyelashes.', \"There's a fat under my eye.\", 'It has an iris mixed with brown and green.', 'She has a high nose with a slight view of her nostrils.', 'She has a smile that reveals her teeth.', 'She has front cheekbones, round face, and small ears.']\n"
          ]
        }
      ]
    },
    {
      "cell_type": "markdown",
      "metadata": {
        "id": "fFaxCaP4sOpE"
      },
      "source": [
        "## 5. 필요한 단어가 들어간 문장 추출\n",
        "`face`, `jawline`, `jaw` 단어가 들어간 문장만 사용"
      ],
      "id": "fFaxCaP4sOpE"
    },
    {
      "cell_type": "code",
      "metadata": {
        "id": "P47DcwmPuFl0"
      },
      "source": [
        "faceList=[]\n",
        "for paragraph in mlist:\n",
        "    word = ''\n",
        "    for sentence in paragraph:\n",
        "        doc2 = nlp(sentence)\n",
        "        for token in doc2:\n",
        "            if(token.text == 'face' or token.text == 'jawline' or token.text == 'jaw'):\n",
        "                word += sentence + ' '\n",
        "        data_index = text['label'][mlist.index(paragraph)]\n",
        "    faceList.append([word, data_index])"
      ],
      "id": "P47DcwmPuFl0",
      "execution_count": null,
      "outputs": []
    },
    {
      "cell_type": "markdown",
      "metadata": {
        "id": "mBpvi8eFuDo7"
      },
      "source": [
        "0번째 열 description과 label 출력"
      ],
      "id": "mBpvi8eFuDo7"
    },
    {
      "cell_type": "code",
      "metadata": {
        "colab": {
          "base_uri": "https://localhost:8080/"
        },
        "id": "ef230125",
        "outputId": "de7ec02d-8b75-4e2f-8ad6-490c562fa21c"
      },
      "source": [
        "print(faceList[0])"
      ],
      "id": "ef230125",
      "execution_count": null,
      "outputs": [
        {
          "output_type": "stream",
          "name": "stdout",
          "text": [
            "['She has front cheekbones, round face, and small ears. ', 'A']\n"
          ]
        }
      ]
    },
    {
      "cell_type": "markdown",
      "metadata": {
        "id": "qtv6XuwQuuiP"
      },
      "source": [
        "## 6. 문장 깔끔하게 만들기\n",
        "- 1) **[ 's ] 삭제** *(ex) It's*\n",
        "- 2) **영문자 이외의 문자 삭제**\n",
        "- 3) **대문자 -> 소문자**\n",
        "- 4) **불용어 제거**\n",
        "- 5) **표제어 추출** *(ex) making -> make*"
      ],
      "id": "qtv6XuwQuuiP"
    },
    {
      "cell_type": "code",
      "metadata": {
        "id": "E7_RZqpkWU5J"
      },
      "source": [
        "import re\n",
        "def cleaning(data):\n",
        "    # 1 ------------------------------------------\n",
        "    data = re.sub(\"'s\",' ', data)\n",
        "    # 2 ------------------------------------------\n",
        "    only_english = re.sub('[^a-zA-Z]', ' ', data)\n",
        "    # 3 ------------------------------------------\n",
        "    no_capitals = only_english.lower().split()\n",
        "    # 4 ------------------------------------------\n",
        "    stops = spacy.lang.en.stop_words.STOP_WORDS\n",
        "    no_stops = ''\n",
        "    for word in no_capitals:\n",
        "      if not word in stops:\n",
        "         no_stops += word + ' '\n",
        "    # 5  ------------------------------------------\n",
        "    sentence = nlp(no_stops)\n",
        "    lemma = ''\n",
        "    for token in sentence:\n",
        "        lemma += token.lemma_ + ' '\n",
        " \n",
        "    #  ---------------------------------------------\n",
        "    return lemma#no_stops#stemmer_words"
      ],
      "id": "E7_RZqpkWU5J",
      "execution_count": null,
      "outputs": []
    },
    {
      "cell_type": "code",
      "metadata": {
        "id": "SjIB4Y9mWXA4"
      },
      "source": [
        "Clean_text = []\n",
        "for i in range(len(faceList)):\n",
        "  clean = cleaning(faceList[i][0])\n",
        "  Clean_text.append([faceList[i][1], clean])"
      ],
      "id": "SjIB4Y9mWXA4",
      "execution_count": null,
      "outputs": []
    },
    {
      "cell_type": "markdown",
      "metadata": {
        "id": "eDs2zaN1w1a_"
      },
      "source": [
        "깔끔하게 만든 0번째 열 description과 label 출력"
      ],
      "id": "eDs2zaN1w1a_"
    },
    {
      "cell_type": "code",
      "metadata": {
        "colab": {
          "base_uri": "https://localhost:8080/"
        },
        "id": "F2KfSMOXXCtE",
        "outputId": "8919bfbe-7993-40d6-9611-82109b52ed22"
      },
      "source": [
        "print(Clean_text[0])"
      ],
      "id": "F2KfSMOXXCtE",
      "execution_count": null,
      "outputs": [
        {
          "output_type": "stream",
          "name": "stdout",
          "text": [
            "['A', 'cheekbone round face small ear ']\n"
          ]
        }
      ]
    },
    {
      "cell_type": "markdown",
      "metadata": {
        "id": "6CXyqGpexCaO"
      },
      "source": [
        "## 7. List to DataFrame"
      ],
      "id": "6CXyqGpexCaO"
    },
    {
      "cell_type": "code",
      "metadata": {
        "colab": {
          "base_uri": "https://localhost:8080/"
        },
        "id": "d3400a3d",
        "outputId": "7550ea5f-d18c-482a-848a-20c4f8d2e790"
      },
      "source": [
        "text_ = pd.DataFrame(Clean_text, columns=['label', 'description'])\n",
        "print(text_)"
      ],
      "id": "d3400a3d",
      "execution_count": null,
      "outputs": [
        {
          "output_type": "stream",
          "name": "stdout",
          "text": [
            "     label                                        description\n",
            "0        A                    cheekbone round face small ear \n",
            "1        C            rectangular face shape large cheekbone \n",
            "2        A      skin color bright mole face face round shape \n",
            "3        N                         form angle face large ear \n",
            "4        D                                 oblong face shape \n",
            "...    ...                                                ...\n",
            "1047     B                                    face egg shape \n",
            "1048     B  eye black wrinkles eye lot freckle face skin l...\n",
            "1049     B  face shape oval shape color face cool sand che...\n",
            "1050     A                                  face round shape \n",
            "1051     B            face shape egg shape bright white skin \n",
            "\n",
            "[1052 rows x 2 columns]\n"
          ]
        }
      ]
    },
    {
      "cell_type": "markdown",
      "metadata": {
        "id": "nmCAv3i3xSd_"
      },
      "source": [
        "## 8. 데이터 정리하기\n",
        "### 8.1 비어있는 데이터 삭제\n",
        "불필요한 데이터 삭제\n",
        "\n",
        "1052개 -> 1027개"
      ],
      "id": "nmCAv3i3xSd_"
    },
    {
      "cell_type": "code",
      "metadata": {
        "id": "FIcvkLlpnsh9"
      },
      "source": [
        "text_drop = text_.dropna()"
      ],
      "id": "FIcvkLlpnsh9",
      "execution_count": null,
      "outputs": []
    },
    {
      "cell_type": "code",
      "metadata": {
        "colab": {
          "base_uri": "https://localhost:8080/",
          "height": 423
        },
        "id": "MNLh4oN3nwZh",
        "outputId": "3b3f2fe1-dfde-4d27-d9e1-e21773f47065"
      },
      "source": [
        "text_drop"
      ],
      "id": "MNLh4oN3nwZh",
      "execution_count": null,
      "outputs": [
        {
          "output_type": "execute_result",
          "data": {
            "text/html": [
              "<div>\n",
              "<style scoped>\n",
              "    .dataframe tbody tr th:only-of-type {\n",
              "        vertical-align: middle;\n",
              "    }\n",
              "\n",
              "    .dataframe tbody tr th {\n",
              "        vertical-align: top;\n",
              "    }\n",
              "\n",
              "    .dataframe thead th {\n",
              "        text-align: right;\n",
              "    }\n",
              "</style>\n",
              "<table border=\"1\" class=\"dataframe\">\n",
              "  <thead>\n",
              "    <tr style=\"text-align: right;\">\n",
              "      <th></th>\n",
              "      <th>label</th>\n",
              "      <th>description</th>\n",
              "    </tr>\n",
              "  </thead>\n",
              "  <tbody>\n",
              "    <tr>\n",
              "      <th>0</th>\n",
              "      <td>A</td>\n",
              "      <td>cheekbone round face small ear</td>\n",
              "    </tr>\n",
              "    <tr>\n",
              "      <th>1</th>\n",
              "      <td>C</td>\n",
              "      <td>rectangular face shape large cheekbone</td>\n",
              "    </tr>\n",
              "    <tr>\n",
              "      <th>2</th>\n",
              "      <td>A</td>\n",
              "      <td>skin color bright mole face face round shape</td>\n",
              "    </tr>\n",
              "    <tr>\n",
              "      <th>3</th>\n",
              "      <td>N</td>\n",
              "      <td>form angle face large ear</td>\n",
              "    </tr>\n",
              "    <tr>\n",
              "      <th>4</th>\n",
              "      <td>D</td>\n",
              "      <td>oblong face shape</td>\n",
              "    </tr>\n",
              "    <tr>\n",
              "      <th>...</th>\n",
              "      <td>...</td>\n",
              "      <td>...</td>\n",
              "    </tr>\n",
              "    <tr>\n",
              "      <th>1047</th>\n",
              "      <td>B</td>\n",
              "      <td>face egg shape</td>\n",
              "    </tr>\n",
              "    <tr>\n",
              "      <th>1048</th>\n",
              "      <td>B</td>\n",
              "      <td>eye black wrinkles eye lot freckle face skin l...</td>\n",
              "    </tr>\n",
              "    <tr>\n",
              "      <th>1049</th>\n",
              "      <td>B</td>\n",
              "      <td>face shape oval shape color face cool sand che...</td>\n",
              "    </tr>\n",
              "    <tr>\n",
              "      <th>1050</th>\n",
              "      <td>A</td>\n",
              "      <td>face round shape</td>\n",
              "    </tr>\n",
              "    <tr>\n",
              "      <th>1051</th>\n",
              "      <td>B</td>\n",
              "      <td>face shape egg shape bright white skin</td>\n",
              "    </tr>\n",
              "  </tbody>\n",
              "</table>\n",
              "<p>1027 rows × 2 columns</p>\n",
              "</div>"
            ],
            "text/plain": [
              "     label                                        description\n",
              "0        A                    cheekbone round face small ear \n",
              "1        C            rectangular face shape large cheekbone \n",
              "2        A      skin color bright mole face face round shape \n",
              "3        N                         form angle face large ear \n",
              "4        D                                 oblong face shape \n",
              "...    ...                                                ...\n",
              "1047     B                                    face egg shape \n",
              "1048     B  eye black wrinkles eye lot freckle face skin l...\n",
              "1049     B  face shape oval shape color face cool sand che...\n",
              "1050     A                                  face round shape \n",
              "1051     B            face shape egg shape bright white skin \n",
              "\n",
              "[1027 rows x 2 columns]"
            ]
          },
          "metadata": {},
          "execution_count": 15
        }
      ]
    },
    {
      "cell_type": "markdown",
      "metadata": {
        "id": "TnGB6_I9yM7T"
      },
      "source": [
        "### 8.2 잘못 입력된 데이터 바꾸기"
      ],
      "id": "TnGB6_I9yM7T"
    },
    {
      "cell_type": "code",
      "metadata": {
        "colab": {
          "base_uri": "https://localhost:8080/"
        },
        "id": "I7Y0SB4lyZ3a",
        "outputId": "d02e96da-b444-44cf-9826-a80c58e94dbe"
      },
      "source": [
        "text_change = text_drop\n",
        "text_change.loc[text_change['description'] == '', 'label'] = 'N'"
      ],
      "id": "I7Y0SB4lyZ3a",
      "execution_count": null,
      "outputs": [
        {
          "output_type": "stream",
          "name": "stderr",
          "text": [
            "/usr/local/lib/python3.7/dist-packages/pandas/core/indexing.py:670: SettingWithCopyWarning: \n",
            "A value is trying to be set on a copy of a slice from a DataFrame\n",
            "\n",
            "See the caveats in the documentation: https://pandas.pydata.org/pandas-docs/stable/user_guide/indexing.html#returning-a-view-versus-a-copy\n",
            "  iloc._setitem_with_indexer(indexer, value)\n",
            "/usr/local/lib/python3.7/dist-packages/ipykernel_launcher.py:2: SettingWithCopyWarning: \n",
            "A value is trying to be set on a copy of a slice from a DataFrame\n",
            "\n",
            "See the caveats in the documentation: https://pandas.pydata.org/pandas-docs/stable/user_guide/indexing.html#returning-a-view-versus-a-copy\n",
            "  \n"
          ]
        }
      ]
    },
    {
      "cell_type": "code",
      "metadata": {
        "colab": {
          "base_uri": "https://localhost:8080/",
          "height": 423
        },
        "id": "TDJloe83zHro",
        "outputId": "c59d4f77-038b-4ef3-c00e-c9cae5499dec"
      },
      "source": [
        "text_change"
      ],
      "id": "TDJloe83zHro",
      "execution_count": null,
      "outputs": [
        {
          "output_type": "execute_result",
          "data": {
            "text/html": [
              "<div>\n",
              "<style scoped>\n",
              "    .dataframe tbody tr th:only-of-type {\n",
              "        vertical-align: middle;\n",
              "    }\n",
              "\n",
              "    .dataframe tbody tr th {\n",
              "        vertical-align: top;\n",
              "    }\n",
              "\n",
              "    .dataframe thead th {\n",
              "        text-align: right;\n",
              "    }\n",
              "</style>\n",
              "<table border=\"1\" class=\"dataframe\">\n",
              "  <thead>\n",
              "    <tr style=\"text-align: right;\">\n",
              "      <th></th>\n",
              "      <th>label</th>\n",
              "      <th>description</th>\n",
              "    </tr>\n",
              "  </thead>\n",
              "  <tbody>\n",
              "    <tr>\n",
              "      <th>0</th>\n",
              "      <td>A</td>\n",
              "      <td>cheekbone round face small ear</td>\n",
              "    </tr>\n",
              "    <tr>\n",
              "      <th>1</th>\n",
              "      <td>C</td>\n",
              "      <td>rectangular face shape large cheekbone</td>\n",
              "    </tr>\n",
              "    <tr>\n",
              "      <th>2</th>\n",
              "      <td>A</td>\n",
              "      <td>skin color bright mole face face round shape</td>\n",
              "    </tr>\n",
              "    <tr>\n",
              "      <th>3</th>\n",
              "      <td>N</td>\n",
              "      <td>form angle face large ear</td>\n",
              "    </tr>\n",
              "    <tr>\n",
              "      <th>4</th>\n",
              "      <td>D</td>\n",
              "      <td>oblong face shape</td>\n",
              "    </tr>\n",
              "    <tr>\n",
              "      <th>...</th>\n",
              "      <td>...</td>\n",
              "      <td>...</td>\n",
              "    </tr>\n",
              "    <tr>\n",
              "      <th>1047</th>\n",
              "      <td>B</td>\n",
              "      <td>face egg shape</td>\n",
              "    </tr>\n",
              "    <tr>\n",
              "      <th>1048</th>\n",
              "      <td>B</td>\n",
              "      <td>eye black wrinkles eye lot freckle face skin l...</td>\n",
              "    </tr>\n",
              "    <tr>\n",
              "      <th>1049</th>\n",
              "      <td>B</td>\n",
              "      <td>face shape oval shape color face cool sand che...</td>\n",
              "    </tr>\n",
              "    <tr>\n",
              "      <th>1050</th>\n",
              "      <td>A</td>\n",
              "      <td>face round shape</td>\n",
              "    </tr>\n",
              "    <tr>\n",
              "      <th>1051</th>\n",
              "      <td>B</td>\n",
              "      <td>face shape egg shape bright white skin</td>\n",
              "    </tr>\n",
              "  </tbody>\n",
              "</table>\n",
              "<p>1027 rows × 2 columns</p>\n",
              "</div>"
            ],
            "text/plain": [
              "     label                                        description\n",
              "0        A                    cheekbone round face small ear \n",
              "1        C            rectangular face shape large cheekbone \n",
              "2        A      skin color bright mole face face round shape \n",
              "3        N                         form angle face large ear \n",
              "4        D                                 oblong face shape \n",
              "...    ...                                                ...\n",
              "1047     B                                    face egg shape \n",
              "1048     B  eye black wrinkles eye lot freckle face skin l...\n",
              "1049     B  face shape oval shape color face cool sand che...\n",
              "1050     A                                  face round shape \n",
              "1051     B            face shape egg shape bright white skin \n",
              "\n",
              "[1027 rows x 2 columns]"
            ]
          },
          "metadata": {},
          "execution_count": 17
        }
      ]
    },
    {
      "cell_type": "markdown",
      "metadata": {
        "id": "kjLJ9A-A1ZIo"
      },
      "source": [
        "문장이 비어있음에도 불구하고 label이 지정되어 있는 경우 Label을 'N'로 바꿈"
      ],
      "id": "kjLJ9A-A1ZIo"
    },
    {
      "cell_type": "code",
      "metadata": {
        "colab": {
          "base_uri": "https://localhost:8080/"
        },
        "id": "KclGZuRs06f5",
        "outputId": "c94c265c-9c6a-4e18-daf5-13f5480d6769"
      },
      "source": [
        "text_.loc[1027]"
      ],
      "id": "KclGZuRs06f5",
      "execution_count": null,
      "outputs": [
        {
          "output_type": "execute_result",
          "data": {
            "text/plain": [
              "label          C\n",
              "description     \n",
              "Name: 1027, dtype: object"
            ]
          },
          "metadata": {},
          "execution_count": 18
        }
      ]
    },
    {
      "cell_type": "code",
      "metadata": {
        "colab": {
          "base_uri": "https://localhost:8080/"
        },
        "id": "SpUlxPDc1H-Z",
        "outputId": "6d1233cc-b113-4bc8-9845-d53773bfce14"
      },
      "source": [
        "text_change.loc[1027]"
      ],
      "id": "SpUlxPDc1H-Z",
      "execution_count": null,
      "outputs": [
        {
          "output_type": "execute_result",
          "data": {
            "text/plain": [
              "label          N\n",
              "description     \n",
              "Name: 1027, dtype: object"
            ]
          },
          "metadata": {},
          "execution_count": 19
        }
      ]
    },
    {
      "cell_type": "markdown",
      "metadata": {
        "id": "87hpTUfB1oWO"
      },
      "source": [
        "## 9. Shuffle (섞기)"
      ],
      "id": "87hpTUfB1oWO"
    },
    {
      "cell_type": "code",
      "metadata": {
        "colab": {
          "base_uri": "https://localhost:8080/",
          "height": 423
        },
        "id": "SfG0yh0pZZ0-",
        "outputId": "7d6eb909-b64f-4313-dfbe-0a589d57a3f2"
      },
      "source": [
        "df_shuffled = text_change.sample(frac=1).reset_index(drop=True)\n",
        "df_shuffled"
      ],
      "id": "SfG0yh0pZZ0-",
      "execution_count": null,
      "outputs": [
        {
          "output_type": "execute_result",
          "data": {
            "text/html": [
              "<div>\n",
              "<style scoped>\n",
              "    .dataframe tbody tr th:only-of-type {\n",
              "        vertical-align: middle;\n",
              "    }\n",
              "\n",
              "    .dataframe tbody tr th {\n",
              "        vertical-align: top;\n",
              "    }\n",
              "\n",
              "    .dataframe thead th {\n",
              "        text-align: right;\n",
              "    }\n",
              "</style>\n",
              "<table border=\"1\" class=\"dataframe\">\n",
              "  <thead>\n",
              "    <tr style=\"text-align: right;\">\n",
              "      <th></th>\n",
              "      <th>label</th>\n",
              "      <th>description</th>\n",
              "    </tr>\n",
              "  </thead>\n",
              "  <tbody>\n",
              "    <tr>\n",
              "      <th>0</th>\n",
              "      <td>B</td>\n",
              "      <td>face egg shape</td>\n",
              "    </tr>\n",
              "    <tr>\n",
              "      <th>1</th>\n",
              "      <td>N</td>\n",
              "      <td>doesn t fat face</td>\n",
              "    </tr>\n",
              "    <tr>\n",
              "      <th>2</th>\n",
              "      <td>C</td>\n",
              "      <td>face shape square</td>\n",
              "    </tr>\n",
              "    <tr>\n",
              "      <th>3</th>\n",
              "      <td>B</td>\n",
              "      <td>round egg shape face wrinkle face color yellow...</td>\n",
              "    </tr>\n",
              "    <tr>\n",
              "      <th>4</th>\n",
              "      <td>D</td>\n",
              "      <td>beard long face</td>\n",
              "    </tr>\n",
              "    <tr>\n",
              "      <th>...</th>\n",
              "      <td>...</td>\n",
              "      <td>...</td>\n",
              "    </tr>\n",
              "    <tr>\n",
              "      <th>1022</th>\n",
              "      <td>A</td>\n",
              "      <td>square chin blunt face shape tip chin</td>\n",
              "    </tr>\n",
              "    <tr>\n",
              "      <th>1023</th>\n",
              "      <td>E</td>\n",
              "      <td>wear large square frame black horn frame large...</td>\n",
              "    </tr>\n",
              "    <tr>\n",
              "      <th>1024</th>\n",
              "      <td>A</td>\n",
              "      <td>bread round face</td>\n",
              "    </tr>\n",
              "    <tr>\n",
              "      <th>1025</th>\n",
              "      <td>N</td>\n",
              "      <td>cheeks chin chubby jawline clear</td>\n",
              "    </tr>\n",
              "    <tr>\n",
              "      <th>1026</th>\n",
              "      <td>C</td>\n",
              "      <td>face rectangle shape skin porcelain color</td>\n",
              "    </tr>\n",
              "  </tbody>\n",
              "</table>\n",
              "<p>1027 rows × 2 columns</p>\n",
              "</div>"
            ],
            "text/plain": [
              "     label                                        description\n",
              "0        B                                    face egg shape \n",
              "1        N                                  doesn t fat face \n",
              "2        C                                 face shape square \n",
              "3        B  round egg shape face wrinkle face color yellow...\n",
              "4        D                                   beard long face \n",
              "...    ...                                                ...\n",
              "1022     A             square chin blunt face shape tip chin \n",
              "1023     E  wear large square frame black horn frame large...\n",
              "1024     A                                  bread round face \n",
              "1025     N                  cheeks chin chubby jawline clear \n",
              "1026     C         face rectangle shape skin porcelain color \n",
              "\n",
              "[1027 rows x 2 columns]"
            ]
          },
          "metadata": {},
          "execution_count": 20
        }
      ]
    },
    {
      "cell_type": "markdown",
      "metadata": {
        "id": "SqL4EvQM1whW"
      },
      "source": [
        "## 10. Train과 Text 데이터 생성\n",
        "train : test = 9 : 1 비율로 나눔"
      ],
      "id": "SqL4EvQM1whW"
    },
    {
      "cell_type": "code",
      "metadata": {
        "colab": {
          "base_uri": "https://localhost:8080/"
        },
        "id": "peJ-BAk2ZiI8",
        "outputId": "91b33910-5abf-47eb-a03b-008029636812"
      },
      "source": [
        "train_ratio = 0.9\n",
        "\n",
        "# train dataset\n",
        "s,e = 0, int(df_shuffled.shape[0] * train_ratio) # of raws\n",
        "df_train = pd.DataFrame({'label':df_shuffled['label'][s:e],\n",
        "                        'description':df_shuffled['description'][s:e]})\n",
        "print(\"index for train: %d ~ %d\"%(s,e))\n",
        "\n",
        "# test dataset\n",
        "s,e = e, e+int(df_shuffled.shape[0] * (1.0 - train_ratio))\n",
        "print(\"index for train: %d ~ %d\"%(s,e))\n",
        "df_test = pd.DataFrame({'label':df_shuffled['label'][s:e],\n",
        "                        'description':df_shuffled['description'][s:e]})"
      ],
      "id": "peJ-BAk2ZiI8",
      "execution_count": null,
      "outputs": [
        {
          "output_type": "stream",
          "name": "stdout",
          "text": [
            "index for train: 0 ~ 924\n",
            "index for train: 924 ~ 1026\n"
          ]
        }
      ]
    },
    {
      "cell_type": "markdown",
      "metadata": {
        "id": "osJ0uzGC1_gB"
      },
      "source": [
        "각 데이터의 개수"
      ],
      "id": "osJ0uzGC1_gB"
    },
    {
      "cell_type": "code",
      "metadata": {
        "colab": {
          "base_uri": "https://localhost:8080/"
        },
        "id": "F6xvJMxGZqvw",
        "outputId": "b52d9f51-b4b2-45d9-912e-f1d1cfa7c8f5"
      },
      "source": [
        "print(df_train.shape)\n",
        "print(df_test.shape)"
      ],
      "id": "F6xvJMxGZqvw",
      "execution_count": null,
      "outputs": [
        {
          "output_type": "stream",
          "name": "stdout",
          "text": [
            "(924, 2)\n",
            "(102, 2)\n"
          ]
        }
      ]
    },
    {
      "cell_type": "markdown",
      "metadata": {
        "id": "xc0o6m8I2BzI"
      },
      "source": [
        "## 11. 전처리한 데이터 저장하기"
      ],
      "id": "xc0o6m8I2BzI"
    },
    {
      "cell_type": "code",
      "metadata": {
        "id": "tflCg_7DZuT8"
      },
      "source": [
        "df_train.to_csv('./gdrive/MyDrive/NLP(자연어처리)/data/GD_train.tsv', \n",
        "                header=False, index=False, sep='\\t')\n",
        "df_test.to_csv('./gdrive/MyDrive/NLP(자연어처리)/data/GD_test.tsv', \n",
        "               header=False, index=False, sep='\\t')"
      ],
      "id": "tflCg_7DZuT8",
      "execution_count": null,
      "outputs": []
    }
  ]
}