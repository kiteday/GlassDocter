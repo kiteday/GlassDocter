{
  "nbformat": 4,
  "nbformat_minor": 0,
  "metadata": {
    "colab": {
      "name": "glass_main.ipynb",
      "provenance": [],
      "collapsed_sections": [],
      "authorship_tag": "ABX9TyO0gHi1Y84HOomFefq15qHF",
      "include_colab_link": true
    },
    "kernelspec": {
      "name": "python3",
      "display_name": "Python 3"
    },
    "language_info": {
      "name": "python"
    },
    "accelerator": "GPU"
  },
  "cells": [
    {
      "cell_type": "markdown",
      "metadata": {
        "id": "view-in-github",
        "colab_type": "text"
      },
      "source": [
        "<a href=\"https://colab.research.google.com/github/kiteday/GlassDocter/blob/main/glass_main.ipynb\" target=\"_parent\"><img src=\"https://colab.research.google.com/assets/colab-badge.svg\" alt=\"Open In Colab\"/></a>"
      ]
    },
    {
      "cell_type": "markdown",
      "metadata": {
        "id": "4ANizAvP2o0P"
      },
      "source": [
        "\n",
        "0.1 라이브러리 임포트\n",
        "\n"
      ]
    },
    {
      "cell_type": "code",
      "metadata": {
        "id": "5Le79A-H2f9d"
      },
      "source": [
        "import torch\n",
        "import torch.nn as nn\n",
        "import torchvision.datasets as dset\n",
        "import torchvision.transforms as transforms\n",
        "import matplotlib.pyplot as plt\n",
        "from torch.autograd import Variable\n",
        "import numpy as np\n",
        "import pandas as pd\n",
        "import os"
      ],
      "execution_count": null,
      "outputs": []
    },
    {
      "cell_type": "markdown",
      "metadata": {
        "id": "OKQxA0nX3QGG"
      },
      "source": [
        "**0.2 하이퍼파라미터 세팅**"
      ]
    },
    {
      "cell_type": "code",
      "metadata": {
        "id": "pwDUeds-3NKF"
      },
      "source": [
        "batch_size = 128\n",
        "num_epochs = 30\n",
        "\n",
        "word_vec_size = 256\n",
        "dropout_p = 0.3\n",
        "\n",
        "hidden_size = 512\n",
        "num_layers = 4\n",
        "\n",
        "learning_rate = 0.001"
      ],
      "execution_count": null,
      "outputs": []
    },
    {
      "cell_type": "code",
      "metadata": {
        "id": "QHRY1Kxn3mMl"
      },
      "source": [
        "#device = torch.device('cuda')\n",
        "device = torch.device('cuda' if torch.cuda.is_available() else 'cpu')"
      ],
      "execution_count": null,
      "outputs": []
    },
    {
      "cell_type": "markdown",
      "metadata": {
        "id": "1Nvn3sue3w2-"
      },
      "source": [
        "# 1. train, test dataset 가져오기"
      ]
    },
    {
      "cell_type": "code",
      "metadata": {
        "colab": {
          "base_uri": "https://localhost:8080/"
        },
        "id": "gf8MQ0jv4RW2",
        "outputId": "4d18d39e-3c9c-45fc-f14f-214a5321326f"
      },
      "source": [
        "from google.colab import drive\n",
        "drive.mount('/content/gdrive')"
      ],
      "execution_count": null,
      "outputs": [
        {
          "output_type": "stream",
          "name": "stdout",
          "text": [
            "Mounted at /content/gdrive\n"
          ]
        }
      ]
    },
    {
      "cell_type": "code",
      "metadata": {
        "colab": {
          "base_uri": "https://localhost:8080/"
        },
        "id": "2ZqYz2FE7OF-",
        "outputId": "f7e8e597-bfb5-47cc-d0d0-3e6cc791929d"
      },
      "source": [
        "%cd /content/gdrive/MyDrive/NLP"
      ],
      "execution_count": null,
      "outputs": [
        {
          "output_type": "stream",
          "name": "stdout",
          "text": [
            "/content/gdrive/MyDrive/NLP\n"
          ]
        }
      ]
    },
    {
      "cell_type": "code",
      "metadata": {
        "colab": {
          "base_uri": "https://localhost:8080/"
        },
        "id": "YQkQNJ_c3vhG",
        "outputId": "2195c9f1-9dfb-428d-89dd-72a053dbf2e9"
      },
      "source": [
        "!pip install import_ipynb\n",
        "import import_ipynb"
      ],
      "execution_count": null,
      "outputs": [
        {
          "output_type": "stream",
          "name": "stdout",
          "text": [
            "Collecting import_ipynb\n",
            "  Downloading import-ipynb-0.1.3.tar.gz (4.0 kB)\n",
            "Building wheels for collected packages: import-ipynb\n",
            "  Building wheel for import-ipynb (setup.py) ... \u001b[?25l\u001b[?25hdone\n",
            "  Created wheel for import-ipynb: filename=import_ipynb-0.1.3-py3-none-any.whl size=2975 sha256=2837806f1f2a358c23b6df9b809b6ab8e4822f6f1f2bd7bb45123603754448ed\n",
            "  Stored in directory: /root/.cache/pip/wheels/b1/5e/dc/79780689896a056199b0b9f24471e3ee184fbd816df355d5f0\n",
            "Successfully built import-ipynb\n",
            "Installing collected packages: import-ipynb\n",
            "Successfully installed import-ipynb-0.1.3\n"
          ]
        }
      ]
    },
    {
      "cell_type": "code",
      "metadata": {
        "id": "9QJuTdyy38nU",
        "colab": {
          "base_uri": "https://localhost:8080/"
        },
        "outputId": "c4326d01-775e-4553-bc3a-060c08533279"
      },
      "source": [
        "from data_loader import DataLoader"
      ],
      "execution_count": null,
      "outputs": [
        {
          "output_type": "stream",
          "name": "stdout",
          "text": [
            "importing Jupyter notebook from data_loader.ipynb\n",
            "1.10.0+cu111\n",
            "Collecting torchtext==0.4.0\n",
            "  Downloading torchtext-0.4.0-py3-none-any.whl (53 kB)\n",
            "\u001b[K     |████████████████████████████████| 53 kB 1.2 MB/s \n",
            "\u001b[?25hRequirement already satisfied: tqdm in /usr/local/lib/python3.7/dist-packages (from torchtext==0.4.0) (4.62.3)\n",
            "Requirement already satisfied: requests in /usr/local/lib/python3.7/dist-packages (from torchtext==0.4.0) (2.23.0)\n",
            "Requirement already satisfied: six in /usr/local/lib/python3.7/dist-packages (from torchtext==0.4.0) (1.15.0)\n",
            "Requirement already satisfied: torch in /usr/local/lib/python3.7/dist-packages (from torchtext==0.4.0) (1.10.0+cu111)\n",
            "Requirement already satisfied: numpy in /usr/local/lib/python3.7/dist-packages (from torchtext==0.4.0) (1.19.5)\n",
            "Requirement already satisfied: idna<3,>=2.5 in /usr/local/lib/python3.7/dist-packages (from requests->torchtext==0.4.0) (2.10)\n",
            "Requirement already satisfied: urllib3!=1.25.0,!=1.25.1,<1.26,>=1.21.1 in /usr/local/lib/python3.7/dist-packages (from requests->torchtext==0.4.0) (1.24.3)\n",
            "Requirement already satisfied: chardet<4,>=3.0.2 in /usr/local/lib/python3.7/dist-packages (from requests->torchtext==0.4.0) (3.0.4)\n",
            "Requirement already satisfied: certifi>=2017.4.17 in /usr/local/lib/python3.7/dist-packages (from requests->torchtext==0.4.0) (2021.10.8)\n",
            "Requirement already satisfied: typing-extensions in /usr/local/lib/python3.7/dist-packages (from torch->torchtext==0.4.0) (3.10.0.2)\n",
            "Installing collected packages: torchtext\n",
            "  Attempting uninstall: torchtext\n",
            "    Found existing installation: torchtext 0.11.0\n",
            "    Uninstalling torchtext-0.11.0:\n",
            "      Successfully uninstalled torchtext-0.11.0\n",
            "Successfully installed torchtext-0.4.0\n"
          ]
        }
      ]
    },
    {
      "cell_type": "code",
      "metadata": {
        "id": "KbF5K28v6DE5"
      },
      "source": [
        "loaders = DataLoader(\n",
        "    train_fn='/content/gdrive/MyDrive/NLP/project/data/GD_train.tsv',\n",
        "    batch_size=batch_size,\n",
        "    vaild_ratio=.2,\n",
        "    device=-1,\n",
        "    max_vocab=999999,\n",
        "    min_freq=5,\n",
        ")"
      ],
      "execution_count": null,
      "outputs": []
    },
    {
      "cell_type": "code",
      "metadata": {
        "id": "SX1XcfUF9FgW"
      },
      "source": [
        "test_loaders = DataLoader(\n",
        "    train_fn='/content/gdrive/MyDrive/NLP/project/data/GD_test.tsv',\n",
        "    batch_size=batch_size,\n",
        "    vaild_ratio=.01,\n",
        "    device=-1,\n",
        "    max_vocab=999999,\n",
        "    min_freq=5,\n",
        ")"
      ],
      "execution_count": null,
      "outputs": []
    },
    {
      "cell_type": "markdown",
      "metadata": {
        "id": "kmFzKCco9O0B"
      },
      "source": [
        "# 2. 대략적인 데이터 형태"
      ]
    },
    {
      "cell_type": "code",
      "metadata": {
        "colab": {
          "base_uri": "https://localhost:8080/"
        },
        "id": "BzG_2_CJ9I7p",
        "outputId": "b125cbd0-1abd-48f2-efbb-67c6936ddb46"
      },
      "source": [
        "print(\"|train| =\", len(loaders.train_loader.dataset),\n",
        "      \"|valid| =\", len(loaders.vaild_loader.dataset))\n",
        "vocab_size = len(loaders.text.vocab)\n",
        "num_classes = len(loaders.label.vocab)\n",
        "print(\"|vocab| =\", vocab_size, '|classes| =', num_classes)"
      ],
      "execution_count": null,
      "outputs": [
        {
          "output_type": "stream",
          "name": "stdout",
          "text": [
            "|train| = 739 |valid| = 185\n",
            "|vocab| = 92 |classes| = 7\n"
          ]
        }
      ]
    },
    {
      "cell_type": "markdown",
      "metadata": {
        "id": "kjwtg8xm_UM5"
      },
      "source": [
        "# 3. 데이터 로드함수\n",
        "학습시킬 때 batch_size 단위로 끊어 로드하기 위함"
      ]
    },
    {
      "cell_type": "code",
      "metadata": {
        "colab": {
          "base_uri": "https://localhost:8080/"
        },
        "id": "IA-YFWyZ-qCC",
        "outputId": "cfce4ca9-1abb-4bb2-90b8-b1d7ed383419"
      },
      "source": [
        "n=3\n",
        "for i, data in enumerate(loaders.train_loader):\n",
        "  labels = data.label\n",
        "  texts = data.text\n",
        "\n",
        "  if i>n:\n",
        "    break\n",
        "  print(\"[%d]\" %i)\n",
        "  print(\"한 번에 로드되는 데이터 크기:\", len(labels))\n",
        "\n",
        "  #출력\n",
        "  for j in range(n):\n",
        "    label = labels[j].numpy()\n",
        "    text = texts[j].numpy()\n",
        "    print(\"label: \",label)\n",
        "    print(\"text: \", text.shape)\n",
        "    "
      ],
      "execution_count": null,
      "outputs": [
        {
          "output_type": "stream",
          "name": "stdout",
          "text": [
            "[0]\n",
            "한 번에 로드되는 데이터 크기: 128\n",
            "label:  5\n",
            "text:  (9,)\n",
            "label:  5\n",
            "text:  (9,)\n",
            "label:  1\n",
            "text:  (9,)\n",
            "[1]\n",
            "한 번에 로드되는 데이터 크기: 128\n",
            "label:  0\n",
            "text:  (4,)\n",
            "label:  2\n",
            "text:  (4,)\n",
            "label:  0\n",
            "text:  (4,)\n",
            "[2]\n",
            "한 번에 로드되는 데이터 크기: 128\n",
            "label:  2\n",
            "text:  (2,)\n",
            "label:  3\n",
            "text:  (2,)\n",
            "label:  5\n",
            "text:  (2,)\n",
            "[3]\n",
            "한 번에 로드되는 데이터 크기: 99\n",
            "label:  0\n",
            "text:  (27,)\n",
            "label:  2\n",
            "text:  (27,)\n",
            "label:  2\n",
            "text:  (27,)\n"
          ]
        }
      ]
    },
    {
      "cell_type": "markdown",
      "metadata": {
        "id": "mBEekAN4B3_C"
      },
      "source": [
        "# 4. 모델선언"
      ]
    },
    {
      "cell_type": "code",
      "metadata": {
        "id": "YKNAFUrzB18C"
      },
      "source": [
        "class RNN(nn.Module):\n",
        "  def __init__(self,\n",
        "               input_size,\n",
        "               word_vec_size,\n",
        "               hidden_size,\n",
        "               n_classes,\n",
        "               num_layers=4,\n",
        "               dropout_p=0.3\n",
        "               ):\n",
        "    super(RNN, self).__init__()\n",
        "\n",
        "    self.input_size = input_size\n",
        "    self.word_vec_size = word_vec_size\n",
        "    self.hidden_size = hidden_size\n",
        "    self.n_classes = n_classes\n",
        "    self.num_layers = num_layers\n",
        "    self.dropout_p = dropout_p\n",
        "\n",
        "    self.emb = nn.Embedding(input_size, word_vec_size)\n",
        "\n",
        "    self.lstm = nn.LSTM(input_size=word_vec_size,\n",
        "                        hidden_size=hidden_size,\n",
        "                        num_layers=num_layers,\n",
        "                        dropout=dropout_p,\n",
        "                        batch_first=True,\n",
        "                        bidirectional=True)\n",
        "    self.fc = nn.Linear(hidden_size*2, num_classes)\n",
        "\n",
        "    self.activation = nn.LogSoftmax(dim=-1)\n",
        "\n",
        "  def forward(self, x):\n",
        "    x=self.emb(x)\n",
        "\n",
        "    x, _ =self.lstm(x)\n",
        "\n",
        "    out = self.activation(self.fc(x[:,-1]))\n",
        "\n",
        "    return out"
      ],
      "execution_count": null,
      "outputs": []
    },
    {
      "cell_type": "code",
      "metadata": {
        "id": "JJe5DZqzD_I4"
      },
      "source": [
        "model = RNN(input_size=vocab_size,\n",
        "             word_vec_size=word_vec_size,\n",
        "             hidden_size=hidden_size,\n",
        "             n_classes=num_classes,\n",
        "             num_layers=num_layers,\n",
        "             dropout_p=dropout_p)"
      ],
      "execution_count": null,
      "outputs": []
    },
    {
      "cell_type": "code",
      "metadata": {
        "id": "bkfJTbGZEVHv"
      },
      "source": [
        "def ComputeArr(dloader, imodel):\n",
        "  correct = 0\n",
        "  total = 0\n",
        "\n",
        "  model.eval()    \n",
        "  for i,data in enumerate(dloader):\n",
        "    texts = data.text.to(device)\n",
        "    labels = data.label.to(device)\n",
        "\n",
        "    output = model(texts)\n",
        "    _, output_index = torch.max(output, 1)\n",
        "        \n",
        "    total += labels.size(0)\n",
        "    correct += (output_index == labels).sum().float()\n",
        "  \n",
        "  model.train()      \n",
        "  return (100*correct/total).cpu().numpy()"
      ],
      "execution_count": null,
      "outputs": []
    },
    {
      "cell_type": "code",
      "metadata": {
        "colab": {
          "base_uri": "https://localhost:8080/"
        },
        "id": "GoIanTrwFRvb",
        "outputId": "df1e1c02-abc0-4600-9a68-322482aa22d7"
      },
      "source": [
        "print(\"Accuracy of Test Data: %.2f\" % ComputeArr(loaders.vaild_loader, model.cuda()))"
      ],
      "execution_count": null,
      "outputs": [
        {
          "output_type": "stream",
          "name": "stdout",
          "text": [
            "Accuracy of Test Data: 15.14\n"
          ]
        }
      ]
    },
    {
      "cell_type": "markdown",
      "metadata": {
        "id": "wy6WA1UyFdXD"
      },
      "source": [
        "# 5. loss, optimizer"
      ]
    },
    {
      "cell_type": "code",
      "metadata": {
        "id": "OMa5keu4Fbl7"
      },
      "source": [
        "loss_func = nn.NLLLoss()\n",
        "optimizer = torch.optim.Adam(model.parameters(), lr=learning_rate)"
      ],
      "execution_count": null,
      "outputs": []
    },
    {
      "cell_type": "markdown",
      "metadata": {
        "id": "zLDO7ga5H5Se"
      },
      "source": [
        "# 6. 학습"
      ]
    },
    {
      "cell_type": "code",
      "metadata": {
        "id": "BgPYv4LtH3Ua",
        "colab": {
          "base_uri": "https://localhost:8080/"
        },
        "outputId": "3d9dfa34-0e46-4d71-b144-01b0f56bc3f3"
      },
      "source": [
        "total_step = len(loaders.train_loader)\n",
        "for epoch in range(num_epochs):\n",
        "  for i, data in enumerate(loaders.train_loader):\n",
        "    texts = data.text.to(device)\n",
        "    labels = data.label.to(device)\n",
        "\n",
        "    print(\"[%d]\" %i)\n",
        "    \n",
        "    outputs = model(texts)\n",
        "    loss = loss_func(outputs, labels)\n",
        "\n",
        "    optimizer.zero_grad()\n",
        "    loss.backward()\n",
        "    optimizer.step()\n",
        "\n",
        "    if (i+1) % 7 ==0:\n",
        "      print('Epoch [{}/{}], Step [{}/{}], Loss: {:.4f}, Accr:{:.2f}'\n",
        "      .format(epoch+1, num_epochs, i+1, total_step,\n",
        "              loss.item(),\n",
        "              ComputeArr(loaders.vaild_loader, model)))"
      ],
      "execution_count": null,
      "outputs": [
        {
          "output_type": "stream",
          "name": "stdout",
          "text": [
            "[0]\n",
            "[1]\n",
            "[2]\n",
            "[3]\n",
            "[4]\n",
            "[5]\n",
            "[0]\n",
            "[1]\n",
            "[2]\n",
            "[3]\n",
            "[4]\n",
            "[5]\n",
            "[0]\n",
            "[1]\n",
            "[2]\n",
            "[3]\n",
            "[4]\n",
            "[5]\n",
            "[0]\n",
            "[1]\n",
            "[2]\n",
            "[3]\n",
            "[4]\n",
            "[5]\n",
            "[0]\n",
            "[1]\n",
            "[2]\n",
            "[3]\n",
            "[4]\n",
            "[5]\n",
            "[0]\n",
            "[1]\n",
            "[2]\n",
            "[3]\n",
            "[4]\n",
            "[5]\n",
            "[0]\n",
            "[1]\n",
            "[2]\n",
            "[3]\n",
            "[4]\n",
            "[5]\n",
            "[0]\n",
            "[1]\n",
            "[2]\n",
            "[3]\n",
            "[4]\n",
            "[5]\n",
            "[0]\n",
            "[1]\n",
            "[2]\n",
            "[3]\n",
            "[4]\n",
            "[5]\n",
            "[0]\n",
            "[1]\n",
            "[2]\n",
            "[3]\n",
            "[4]\n",
            "[5]\n",
            "[0]\n",
            "[1]\n",
            "[2]\n",
            "[3]\n",
            "[4]\n",
            "[5]\n",
            "[0]\n",
            "[1]\n",
            "[2]\n",
            "[3]\n",
            "[4]\n",
            "[5]\n",
            "[0]\n",
            "[1]\n",
            "[2]\n",
            "[3]\n",
            "[4]\n",
            "[5]\n",
            "[0]\n",
            "[1]\n",
            "[2]\n",
            "[3]\n",
            "[4]\n",
            "[5]\n",
            "[0]\n",
            "[1]\n",
            "[2]\n",
            "[3]\n",
            "[4]\n",
            "[5]\n",
            "[0]\n",
            "[1]\n",
            "[2]\n",
            "[3]\n",
            "[4]\n",
            "[5]\n",
            "[0]\n",
            "[1]\n",
            "[2]\n",
            "[3]\n",
            "[4]\n",
            "[5]\n",
            "[0]\n",
            "[1]\n",
            "[2]\n",
            "[3]\n",
            "[4]\n",
            "[5]\n",
            "[0]\n",
            "[1]\n",
            "[2]\n",
            "[3]\n",
            "[4]\n",
            "[5]\n",
            "[0]\n",
            "[1]\n",
            "[2]\n",
            "[3]\n",
            "[4]\n",
            "[5]\n",
            "[0]\n",
            "[1]\n",
            "[2]\n",
            "[3]\n",
            "[4]\n",
            "[5]\n",
            "[0]\n",
            "[1]\n",
            "[2]\n",
            "[3]\n",
            "[4]\n",
            "[5]\n",
            "[0]\n",
            "[1]\n",
            "[2]\n",
            "[3]\n",
            "[4]\n",
            "[5]\n",
            "[0]\n",
            "[1]\n",
            "[2]\n",
            "[3]\n",
            "[4]\n",
            "[5]\n",
            "[0]\n",
            "[1]\n",
            "[2]\n",
            "[3]\n",
            "[4]\n",
            "[5]\n",
            "[0]\n",
            "[1]\n",
            "[2]\n",
            "[3]\n",
            "[4]\n",
            "[5]\n",
            "[0]\n",
            "[1]\n",
            "[2]\n",
            "[3]\n",
            "[4]\n",
            "[5]\n",
            "[0]\n",
            "[1]\n",
            "[2]\n",
            "[3]\n",
            "[4]\n",
            "[5]\n",
            "[0]\n",
            "[1]\n",
            "[2]\n",
            "[3]\n",
            "[4]\n",
            "[5]\n",
            "[0]\n",
            "[1]\n",
            "[2]\n",
            "[3]\n",
            "[4]\n",
            "[5]\n"
          ]
        }
      ]
    },
    {
      "cell_type": "code",
      "metadata": {
        "colab": {
          "base_uri": "https://localhost:8080/"
        },
        "id": "OfCrWUeGJZll",
        "outputId": "0d270949-8d37-4451-b617-7386f0454cff"
      },
      "source": [
        "print(\"Accuracy of Valid Data: %.2f\" %ComputeArr(loaders.vaild_loader, model))"
      ],
      "execution_count": null,
      "outputs": [
        {
          "output_type": "stream",
          "name": "stdout",
          "text": [
            "Accuracy of Valid Data: 92.43\n"
          ]
        }
      ]
    },
    {
      "cell_type": "markdown",
      "metadata": {
        "id": "CPDNmNiBLcXh"
      },
      "source": [
        "## *학습데이터 저장"
      ]
    },
    {
      "cell_type": "code",
      "metadata": {
        "id": "4viUwQrALbkl"
      },
      "source": [
        "netname = '/content/gdrive/MyDrive/NLP/project/data/rnn_glass5.pkl'\n",
        "torch.save(model, netname, )"
      ],
      "execution_count": null,
      "outputs": []
    },
    {
      "cell_type": "markdown",
      "metadata": {
        "id": "bFBV81Tvmn9W"
      },
      "source": [
        "## *학습된 모델 로드"
      ]
    },
    {
      "cell_type": "code",
      "metadata": {
        "id": "ERzwVTYJmVoF"
      },
      "source": [
        "netname = '/content/gdrive/MyDrive/NLP/project/data/rnn_glass5.pkl'\n",
        "model = torch.load(netname)"
      ],
      "execution_count": null,
      "outputs": []
    },
    {
      "cell_type": "markdown",
      "metadata": {
        "id": "z9YLl9AsJm-0"
      },
      "source": [
        "# 7. 테스트"
      ]
    },
    {
      "cell_type": "code",
      "metadata": {
        "id": "n5qMTltHIGl1",
        "colab": {
          "base_uri": "https://localhost:8080/"
        },
        "outputId": "0c25a651-8884-4379-8028-0bac00aa9f64"
      },
      "source": [
        "print(\"Accuracy of Valid Data: %.2f\" %ComputeArr(loaders.vaild_loader, model))"
      ],
      "execution_count": null,
      "outputs": [
        {
          "output_type": "stream",
          "name": "stdout",
          "text": [
            "Accuracy of Valid Data: 92.43\n"
          ]
        }
      ]
    },
    {
      "cell_type": "code",
      "metadata": {
        "id": "qVFOSg7QTFiZ"
      },
      "source": [
        "def Testing(dloader, imodel):\n",
        "    correct=0\n",
        "    total=0\n",
        "    \n",
        "    model.eval() #test mode\n",
        "    for i,data in enumerate(dloader): #batch_size 만큼\n",
        "        texts=data.text.to(device)\n",
        "        labels=data.label.to(device)\n",
        "        \n",
        "        # Forward prop.\n",
        "        output=model(texts) #(batch_size, num_classes)\n",
        "        _, output_index=torch.max(output,1) # (batch_size, 1)\n",
        "        \n",
        "        total+=labels.size(0)\n",
        "        correct+=(output_index==labels).sum().float()\n",
        "        #print(output_index)\n",
        "    model.train()\n",
        "    print(len(output_index))\n",
        "    if (i==1):\n",
        "      for i in range(3):\n",
        "        #print(texts[i])\n",
        "        if(output_index[i]==labels[i]) :\n",
        "          print(output_index[i],'\\t',labels[i], 'Correct!')\n",
        "        else :\n",
        "          print(output_index[i],'\\t',labels[i], 'Wrong...')\n",
        "    print('predicted label is : ',str(output_index[0])[7])\n",
        "    get_index=str(output_index[0])[7]\n",
        "    \n",
        "\n",
        "    if get_index == '3':\n",
        "      print(\"얼굴 묘사 없음\")\n",
        "    elif get_index == '0':\n",
        "      print(\"둥근형은 각진 안경테가 어울립니다.\")\n",
        "    elif get_index == '1':\n",
        "      print(\"계란형 얼굴은 모든 안경테가 어울립니다.\")\n",
        "    elif get_index == '2':\n",
        "      print(\"각진형은 둥근 안경테가 어울립니다.\")\n",
        "    elif get_index == '4':\n",
        "      print(\"긴 형은 옆으로 퍼진 안경테가 어울립니다.\")\n",
        "    elif get_index == '5':\n",
        "      print(\"역삼각형은 네모난 안경테가 어울립니다.\")\n",
        "    elif get_index == '6':\n",
        "      print(\"삼각형은 아래가 넓은 안경테가 어울립니다.\")\n",
        "\n",
        "    #print(output_index,'\\t',labels)\n",
        "    return (100*correct/total).cpu().numpy() # tensor -> numpy "
      ],
      "execution_count": null,
      "outputs": []
    },
    {
      "cell_type": "code",
      "metadata": {
        "colab": {
          "base_uri": "https://localhost:8080/",
          "height": 1000
        },
        "id": "GHtA9HxaSHVo",
        "outputId": "9edb6890-ad7c-40e0-e819-37e23b829415"
      },
      "source": [
        "end = 1\n",
        "while end==1:\n",
        "  sentence = input(\"얼굴을 묘사해주세요 : \")+' '\n",
        "  if sentence == '0' :\n",
        "    break\n",
        "  text = pd.read_csv('/content/gdrive/MyDrive/NLP/project/data/GD_train.tsv', delimiter = '\\t')\n",
        "  #print(text)\n",
        "  #print(text.loc[80:84])\n",
        "  text.loc[873]=('N','face shape ' +sentence+ 'shape wide straight forehead overall face color warm natural color redness face shape '+sentence+'shape wide straight forehead overall face color warm natural color redness beard philtrum jawline length fur short shape rap industry standard ')\n",
        "  text.to_csv('/content/gdrive/MyDrive/NLP/project/data/GD_train.tsv', \n",
        "                  header=True, index=False, sep='\\t')\n",
        "\n",
        "  loaders = DataLoader(\n",
        "      train_fn='/content/gdrive/MyDrive/NLP/project/data/GD_train.tsv',\n",
        "      batch_size=batch_size,\n",
        "      #vaild_ratio,\n",
        "      device=0,\n",
        "      max_vocab=999999,\n",
        "      min_freq=5,\n",
        "  )\n",
        "\n",
        "  Testing(loaders.vaild_loader, model)\n"
      ],
      "execution_count": null,
      "outputs": [
        {
          "output_type": "stream",
          "name": "stdout",
          "text": [
            "얼굴을 묘사해주세요 : egg\n",
            "57\n",
            "tensor(1, device='cuda:0') \t tensor(3, device='cuda:0') Wrong...\n",
            "tensor(5, device='cuda:0') \t tensor(3, device='cuda:0') Wrong...\n",
            "tensor(5, device='cuda:0') \t tensor(5, device='cuda:0') Correct!\n",
            "predicted label is :  1\n",
            "계란형 얼굴은 모든 안경테가 어울립니다.\n",
            "얼굴을 묘사해주세요 : round\n",
            "57\n",
            "tensor(0, device='cuda:0') \t tensor(3, device='cuda:0') Wrong...\n",
            "tensor(5, device='cuda:0') \t tensor(3, device='cuda:0') Wrong...\n",
            "tensor(5, device='cuda:0') \t tensor(5, device='cuda:0') Correct!\n",
            "predicted label is :  0\n",
            "둥근형은 각진 안경테가 어울립니다.\n",
            "얼굴을 묘사해주세요 : square\n",
            "57\n",
            "tensor(2, device='cuda:0') \t tensor(3, device='cuda:0') Wrong...\n",
            "tensor(5, device='cuda:0') \t tensor(3, device='cuda:0') Wrong...\n",
            "tensor(5, device='cuda:0') \t tensor(5, device='cuda:0') Correct!\n",
            "predicted label is :  2\n",
            "각진형은 둥근 안경테가 어울립니다.\n",
            "얼굴을 묘사해주세요 : long\n",
            "57\n",
            "tensor(4, device='cuda:0') \t tensor(3, device='cuda:0') Wrong...\n",
            "tensor(5, device='cuda:0') \t tensor(3, device='cuda:0') Wrong...\n",
            "tensor(5, device='cuda:0') \t tensor(5, device='cuda:0') Correct!\n",
            "predicted label is :  4\n",
            "긴 형은 옆으로 퍼진 안경테가 어울립니다.\n"
          ]
        },
        {
          "output_type": "error",
          "ename": "KeyboardInterrupt",
          "evalue": "ignored",
          "traceback": [
            "\u001b[0;31m---------------------------------------------------------------------------\u001b[0m",
            "\u001b[0;31mKeyboardInterrupt\u001b[0m                         Traceback (most recent call last)",
            "\u001b[0;32m/usr/local/lib/python3.7/dist-packages/ipykernel/kernelbase.py\u001b[0m in \u001b[0;36m_input_request\u001b[0;34m(self, prompt, ident, parent, password)\u001b[0m\n\u001b[1;32m    728\u001b[0m             \u001b[0;32mtry\u001b[0m\u001b[0;34m:\u001b[0m\u001b[0;34m\u001b[0m\u001b[0;34m\u001b[0m\u001b[0m\n\u001b[0;32m--> 729\u001b[0;31m                 \u001b[0mident\u001b[0m\u001b[0;34m,\u001b[0m \u001b[0mreply\u001b[0m \u001b[0;34m=\u001b[0m \u001b[0mself\u001b[0m\u001b[0;34m.\u001b[0m\u001b[0msession\u001b[0m\u001b[0;34m.\u001b[0m\u001b[0mrecv\u001b[0m\u001b[0;34m(\u001b[0m\u001b[0mself\u001b[0m\u001b[0;34m.\u001b[0m\u001b[0mstdin_socket\u001b[0m\u001b[0;34m,\u001b[0m \u001b[0;36m0\u001b[0m\u001b[0;34m)\u001b[0m\u001b[0;34m\u001b[0m\u001b[0;34m\u001b[0m\u001b[0m\n\u001b[0m\u001b[1;32m    730\u001b[0m             \u001b[0;32mexcept\u001b[0m \u001b[0mException\u001b[0m\u001b[0;34m:\u001b[0m\u001b[0;34m\u001b[0m\u001b[0;34m\u001b[0m\u001b[0m\n",
            "\u001b[0;32m/usr/local/lib/python3.7/dist-packages/jupyter_client/session.py\u001b[0m in \u001b[0;36mrecv\u001b[0;34m(self, socket, mode, content, copy)\u001b[0m\n\u001b[1;32m    802\u001b[0m         \u001b[0;32mtry\u001b[0m\u001b[0;34m:\u001b[0m\u001b[0;34m\u001b[0m\u001b[0;34m\u001b[0m\u001b[0m\n\u001b[0;32m--> 803\u001b[0;31m             \u001b[0mmsg_list\u001b[0m \u001b[0;34m=\u001b[0m \u001b[0msocket\u001b[0m\u001b[0;34m.\u001b[0m\u001b[0mrecv_multipart\u001b[0m\u001b[0;34m(\u001b[0m\u001b[0mmode\u001b[0m\u001b[0;34m,\u001b[0m \u001b[0mcopy\u001b[0m\u001b[0;34m=\u001b[0m\u001b[0mcopy\u001b[0m\u001b[0;34m)\u001b[0m\u001b[0;34m\u001b[0m\u001b[0;34m\u001b[0m\u001b[0m\n\u001b[0m\u001b[1;32m    804\u001b[0m         \u001b[0;32mexcept\u001b[0m \u001b[0mzmq\u001b[0m\u001b[0;34m.\u001b[0m\u001b[0mZMQError\u001b[0m \u001b[0;32mas\u001b[0m \u001b[0me\u001b[0m\u001b[0;34m:\u001b[0m\u001b[0;34m\u001b[0m\u001b[0;34m\u001b[0m\u001b[0m\n",
            "\u001b[0;32m/usr/local/lib/python3.7/dist-packages/zmq/sugar/socket.py\u001b[0m in \u001b[0;36mrecv_multipart\u001b[0;34m(self, flags, copy, track)\u001b[0m\n\u001b[1;32m    624\u001b[0m         \"\"\"\n\u001b[0;32m--> 625\u001b[0;31m         \u001b[0mparts\u001b[0m \u001b[0;34m=\u001b[0m \u001b[0;34m[\u001b[0m\u001b[0mself\u001b[0m\u001b[0;34m.\u001b[0m\u001b[0mrecv\u001b[0m\u001b[0;34m(\u001b[0m\u001b[0mflags\u001b[0m\u001b[0;34m,\u001b[0m \u001b[0mcopy\u001b[0m\u001b[0;34m=\u001b[0m\u001b[0mcopy\u001b[0m\u001b[0;34m,\u001b[0m \u001b[0mtrack\u001b[0m\u001b[0;34m=\u001b[0m\u001b[0mtrack\u001b[0m\u001b[0;34m)\u001b[0m\u001b[0;34m]\u001b[0m\u001b[0;34m\u001b[0m\u001b[0;34m\u001b[0m\u001b[0m\n\u001b[0m\u001b[1;32m    626\u001b[0m         \u001b[0;31m# have first part already, only loop while more to receive\u001b[0m\u001b[0;34m\u001b[0m\u001b[0;34m\u001b[0m\u001b[0;34m\u001b[0m\u001b[0m\n",
            "\u001b[0;32mzmq/backend/cython/socket.pyx\u001b[0m in \u001b[0;36mzmq.backend.cython.socket.Socket.recv\u001b[0;34m()\u001b[0m\n",
            "\u001b[0;32mzmq/backend/cython/socket.pyx\u001b[0m in \u001b[0;36mzmq.backend.cython.socket.Socket.recv\u001b[0;34m()\u001b[0m\n",
            "\u001b[0;32mzmq/backend/cython/socket.pyx\u001b[0m in \u001b[0;36mzmq.backend.cython.socket._recv_copy\u001b[0;34m()\u001b[0m\n",
            "\u001b[0;32m/usr/local/lib/python3.7/dist-packages/zmq/backend/cython/checkrc.pxd\u001b[0m in \u001b[0;36mzmq.backend.cython.checkrc._check_rc\u001b[0;34m()\u001b[0m\n",
            "\u001b[0;31mKeyboardInterrupt\u001b[0m: ",
            "\nDuring handling of the above exception, another exception occurred:\n",
            "\u001b[0;31mKeyboardInterrupt\u001b[0m                         Traceback (most recent call last)",
            "\u001b[0;32m<ipython-input-103-10ae78d6f17f>\u001b[0m in \u001b[0;36m<module>\u001b[0;34m()\u001b[0m\n\u001b[1;32m      1\u001b[0m \u001b[0mend\u001b[0m \u001b[0;34m=\u001b[0m \u001b[0;36m1\u001b[0m\u001b[0;34m\u001b[0m\u001b[0;34m\u001b[0m\u001b[0m\n\u001b[1;32m      2\u001b[0m \u001b[0;32mwhile\u001b[0m \u001b[0mend\u001b[0m\u001b[0;34m==\u001b[0m\u001b[0;36m1\u001b[0m\u001b[0;34m:\u001b[0m\u001b[0;34m\u001b[0m\u001b[0;34m\u001b[0m\u001b[0m\n\u001b[0;32m----> 3\u001b[0;31m   \u001b[0msentence\u001b[0m \u001b[0;34m=\u001b[0m \u001b[0minput\u001b[0m\u001b[0;34m(\u001b[0m\u001b[0;34m\"얼굴을 묘사해주세요 : \"\u001b[0m\u001b[0;34m)\u001b[0m\u001b[0;34m+\u001b[0m\u001b[0;34m' '\u001b[0m\u001b[0;34m\u001b[0m\u001b[0;34m\u001b[0m\u001b[0m\n\u001b[0m\u001b[1;32m      4\u001b[0m   \u001b[0;32mif\u001b[0m \u001b[0msentence\u001b[0m \u001b[0;34m==\u001b[0m \u001b[0;34m'0'\u001b[0m \u001b[0;34m:\u001b[0m\u001b[0;34m\u001b[0m\u001b[0;34m\u001b[0m\u001b[0m\n\u001b[1;32m      5\u001b[0m     \u001b[0;32mbreak\u001b[0m\u001b[0;34m\u001b[0m\u001b[0;34m\u001b[0m\u001b[0m\n",
            "\u001b[0;32m/usr/local/lib/python3.7/dist-packages/ipykernel/kernelbase.py\u001b[0m in \u001b[0;36mraw_input\u001b[0;34m(self, prompt)\u001b[0m\n\u001b[1;32m    702\u001b[0m             \u001b[0mself\u001b[0m\u001b[0;34m.\u001b[0m\u001b[0m_parent_ident\u001b[0m\u001b[0;34m,\u001b[0m\u001b[0;34m\u001b[0m\u001b[0;34m\u001b[0m\u001b[0m\n\u001b[1;32m    703\u001b[0m             \u001b[0mself\u001b[0m\u001b[0;34m.\u001b[0m\u001b[0m_parent_header\u001b[0m\u001b[0;34m,\u001b[0m\u001b[0;34m\u001b[0m\u001b[0;34m\u001b[0m\u001b[0m\n\u001b[0;32m--> 704\u001b[0;31m             \u001b[0mpassword\u001b[0m\u001b[0;34m=\u001b[0m\u001b[0;32mFalse\u001b[0m\u001b[0;34m,\u001b[0m\u001b[0;34m\u001b[0m\u001b[0;34m\u001b[0m\u001b[0m\n\u001b[0m\u001b[1;32m    705\u001b[0m         )\n\u001b[1;32m    706\u001b[0m \u001b[0;34m\u001b[0m\u001b[0m\n",
            "\u001b[0;32m/usr/local/lib/python3.7/dist-packages/ipykernel/kernelbase.py\u001b[0m in \u001b[0;36m_input_request\u001b[0;34m(self, prompt, ident, parent, password)\u001b[0m\n\u001b[1;32m    732\u001b[0m             \u001b[0;32mexcept\u001b[0m \u001b[0mKeyboardInterrupt\u001b[0m\u001b[0;34m:\u001b[0m\u001b[0;34m\u001b[0m\u001b[0;34m\u001b[0m\u001b[0m\n\u001b[1;32m    733\u001b[0m                 \u001b[0;31m# re-raise KeyboardInterrupt, to truncate traceback\u001b[0m\u001b[0;34m\u001b[0m\u001b[0;34m\u001b[0m\u001b[0;34m\u001b[0m\u001b[0m\n\u001b[0;32m--> 734\u001b[0;31m                 \u001b[0;32mraise\u001b[0m \u001b[0mKeyboardInterrupt\u001b[0m\u001b[0;34m\u001b[0m\u001b[0;34m\u001b[0m\u001b[0m\n\u001b[0m\u001b[1;32m    735\u001b[0m             \u001b[0;32melse\u001b[0m\u001b[0;34m:\u001b[0m\u001b[0;34m\u001b[0m\u001b[0;34m\u001b[0m\u001b[0m\n\u001b[1;32m    736\u001b[0m                 \u001b[0;32mbreak\u001b[0m\u001b[0;34m\u001b[0m\u001b[0;34m\u001b[0m\u001b[0m\n",
            "\u001b[0;31mKeyboardInterrupt\u001b[0m: "
          ]
        }
      ]
    },
    {
      "cell_type": "code",
      "metadata": {
        "id": "Nuz3K6y3yWk9"
      },
      "source": [
        ""
      ],
      "execution_count": null,
      "outputs": []
    }
  ]
}